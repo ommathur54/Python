{
  "nbformat": 4,
  "nbformat_minor": 5,
  "metadata": {
    "kernelspec": {
      "display_name": "Python 3",
      "language": "python",
      "name": "python3"
    },
    "language_info": {
      "codemirror_mode": {
        "name": "ipython",
        "version": 3
      },
      "file_extension": ".py",
      "mimetype": "text/x-python",
      "name": "python",
      "nbconvert_exporter": "python",
      "pygments_lexer": "ipython3",
      "version": "3.6.9"
    },
    "colab": {
      "name": "mnist_dl_classification.ipynb",
      "provenance": [],
      "include_colab_link": true
    }
  },
  "cells": [
    {
      "cell_type": "markdown",
      "metadata": {
        "id": "view-in-github",
        "colab_type": "text"
      },
      "source": [
        "<a href=\"https://colab.research.google.com/github/ommathur54/Python/blob/master/mnist_dl_classification.ipynb\" target=\"_parent\"><img src=\"https://colab.research.google.com/assets/colab-badge.svg\" alt=\"Open In Colab\"/></a>"
      ]
    },
    {
      "cell_type": "code",
      "metadata": {
        "id": "7361f1b5"
      },
      "source": [
        "# mnist handwritten dataset \n",
        "# multiclass class classification \n",
        "\n",
        "import numpy as np\n",
        "import pandas as pd \n",
        "import tensorflow as tf\n",
        "import matplotlib.pyplot as plt \n",
        "\n",
        "\n"
      ],
      "id": "7361f1b5",
      "execution_count": 1,
      "outputs": []
    },
    {
      "cell_type": "code",
      "metadata": {
        "id": "d88aae36"
      },
      "source": [
        "#geting dataet from keras\n",
        "mnist = tf.keras.datasets.mnist\n"
      ],
      "id": "d88aae36",
      "execution_count": 2,
      "outputs": []
    },
    {
      "cell_type": "code",
      "metadata": {
        "colab": {
          "base_uri": "https://localhost:8080/"
        },
        "id": "ab2b4e9e",
        "outputId": "9662230d-0b52-4c25-95f0-ae190f617dac"
      },
      "source": [
        "#dataset is present as tuple format and divided in 2 part i.e train and test\n",
        "(x_train_full, y_train_full), (x_test, y_test) = mnist.load_data()\n"
      ],
      "id": "ab2b4e9e",
      "execution_count": 3,
      "outputs": [
        {
          "output_type": "stream",
          "name": "stdout",
          "text": [
            "Downloading data from https://storage.googleapis.com/tensorflow/tf-keras-datasets/mnist.npz\n",
            "11493376/11490434 [==============================] - 0s 0us/step\n",
            "11501568/11490434 [==============================] - 0s 0us/step\n"
          ]
        }
      ]
    },
    {
      "cell_type": "code",
      "metadata": {
        "colab": {
          "base_uri": "https://localhost:8080/"
        },
        "id": "22f89be9",
        "outputId": "b3361439-f735-4e7f-845b-6c8806fdf680"
      },
      "source": [
        "print(x_train_full.shape)\n",
        "\n",
        "print(y_train_full.shape)"
      ],
      "id": "22f89be9",
      "execution_count": 4,
      "outputs": [
        {
          "output_type": "stream",
          "name": "stdout",
          "text": [
            "(60000, 28, 28)\n",
            "(60000,)\n"
          ]
        }
      ]
    },
    {
      "cell_type": "code",
      "metadata": {
        "colab": {
          "base_uri": "https://localhost:8080/"
        },
        "id": "cfc71e4d",
        "outputId": "6504bd7a-883b-48b1-e9a0-ee2117907dd8"
      },
      "source": [
        "print(x_test.shape)\n",
        "print(y_test.shape)\n",
        "\n",
        "print(x_train_full)"
      ],
      "id": "cfc71e4d",
      "execution_count": 5,
      "outputs": [
        {
          "output_type": "stream",
          "name": "stdout",
          "text": [
            "(10000, 28, 28)\n",
            "(10000,)\n",
            "[[[0 0 0 ... 0 0 0]\n",
            "  [0 0 0 ... 0 0 0]\n",
            "  [0 0 0 ... 0 0 0]\n",
            "  ...\n",
            "  [0 0 0 ... 0 0 0]\n",
            "  [0 0 0 ... 0 0 0]\n",
            "  [0 0 0 ... 0 0 0]]\n",
            "\n",
            " [[0 0 0 ... 0 0 0]\n",
            "  [0 0 0 ... 0 0 0]\n",
            "  [0 0 0 ... 0 0 0]\n",
            "  ...\n",
            "  [0 0 0 ... 0 0 0]\n",
            "  [0 0 0 ... 0 0 0]\n",
            "  [0 0 0 ... 0 0 0]]\n",
            "\n",
            " [[0 0 0 ... 0 0 0]\n",
            "  [0 0 0 ... 0 0 0]\n",
            "  [0 0 0 ... 0 0 0]\n",
            "  ...\n",
            "  [0 0 0 ... 0 0 0]\n",
            "  [0 0 0 ... 0 0 0]\n",
            "  [0 0 0 ... 0 0 0]]\n",
            "\n",
            " ...\n",
            "\n",
            " [[0 0 0 ... 0 0 0]\n",
            "  [0 0 0 ... 0 0 0]\n",
            "  [0 0 0 ... 0 0 0]\n",
            "  ...\n",
            "  [0 0 0 ... 0 0 0]\n",
            "  [0 0 0 ... 0 0 0]\n",
            "  [0 0 0 ... 0 0 0]]\n",
            "\n",
            " [[0 0 0 ... 0 0 0]\n",
            "  [0 0 0 ... 0 0 0]\n",
            "  [0 0 0 ... 0 0 0]\n",
            "  ...\n",
            "  [0 0 0 ... 0 0 0]\n",
            "  [0 0 0 ... 0 0 0]\n",
            "  [0 0 0 ... 0 0 0]]\n",
            "\n",
            " [[0 0 0 ... 0 0 0]\n",
            "  [0 0 0 ... 0 0 0]\n",
            "  [0 0 0 ... 0 0 0]\n",
            "  ...\n",
            "  [0 0 0 ... 0 0 0]\n",
            "  [0 0 0 ... 0 0 0]\n",
            "  [0 0 0 ... 0 0 0]]]\n"
          ]
        }
      ]
    },
    {
      "cell_type": "code",
      "metadata": {
        "colab": {
          "base_uri": "https://localhost:8080/"
        },
        "id": "ccbf8934",
        "outputId": "c50792d4-96ca-40df-b896-4da047507497"
      },
      "source": [
        "print(x_train_full.dtype)\n",
        "\n",
        "print(y_train_full.dtype)"
      ],
      "id": "ccbf8934",
      "execution_count": 6,
      "outputs": [
        {
          "output_type": "stream",
          "name": "stdout",
          "text": [
            "uint8\n",
            "uint8\n"
          ]
        }
      ]
    },
    {
      "cell_type": "code",
      "metadata": {
        "id": "5d4a10e6"
      },
      "source": [
        "#because uint8 is 2**8 and taht means 0 to 255 , if we divide by 255 than the we do scale the value between 0 and 1 and process become faster to get reult faster \n",
        "x_valid, x_train = x_train_full[:5000]/255. , x_train_full[5000:]/255.\n",
        "\n",
        "y_valid, y_train = y_train_full[:5000], y_train_full[5000:]\n"
      ],
      "id": "5d4a10e6",
      "execution_count": 7,
      "outputs": []
    },
    {
      "cell_type": "code",
      "metadata": {
        "colab": {
          "base_uri": "https://localhost:8080/",
          "height": 282
        },
        "id": "db017711",
        "outputId": "09d0d4a9-1d63-48d0-bb37-acc6072ec07e"
      },
      "source": [
        "\n",
        "plt.imshow(x_train[14],cmap=\"binary\")\n",
        "plt.axis(\"on\")\n"
      ],
      "id": "db017711",
      "execution_count": 8,
      "outputs": [
        {
          "output_type": "execute_result",
          "data": {
            "text/plain": [
              "(-0.5, 27.5, 27.5, -0.5)"
            ]
          },
          "metadata": {},
          "execution_count": 8
        },
        {
          "output_type": "display_data",
          "data": {
            "image/png": "[encoded data removed]",
            "text/plain": [
              "<Figure size 432x288 with 1 Axes>"
            ]
          },
          "metadata": {
            "needs_background": "light"
          }
        }
      ]
    },
    {
      "cell_type": "code",
      "metadata": {
        "colab": {
          "base_uri": "https://localhost:8080/",
          "height": 265
        },
        "id": "5c026557",
        "outputId": "c2c25ff0-3e95-4d51-981e-f58a789cb66a"
      },
      "source": [
        "plt.imshow(x_train[1000],cmap=\"binary\")\n",
        "plt.axis(\"off\")"
      ],
      "id": "5c026557",
      "execution_count": 9,
      "outputs": [
        {
          "output_type": "execute_result",
          "data": {
            "text/plain": [
              "(-0.5, 27.5, 27.5, -0.5)"
            ]
          },
          "metadata": {},
          "execution_count": 9
        },
        {
          "output_type": "display_data",
          "data": {
            "image/png": "[encoded data removed]",
            "text/plain": [
              "<Figure size 432x288 with 1 Axes>"
            ]
          },
          "metadata": {
            "needs_background": "light"
          }
        }
      ]
    },
    {
      "cell_type": "code",
      "metadata": {
        "colab": {
          "base_uri": "https://localhost:8080/",
          "height": 265
        },
        "id": "93086214",
        "outputId": "64028f6b-18ef-477c-d35f-82a7d643ffee"
      },
      "source": [
        "plt.imshow(x_train[3000],cmap=\"binary\")\n",
        "plt.axis(\"off\")"
      ],
      "id": "93086214",
      "execution_count": 10,
      "outputs": [
        {
          "output_type": "execute_result",
          "data": {
            "text/plain": [
              "(-0.5, 27.5, 27.5, -0.5)"
            ]
          },
          "metadata": {},
          "execution_count": 10
        },
        {
          "output_type": "display_data",
          "data": {
            "image/png": "[encoded data removed]",
            "text/plain": [
              "<Figure size 432x288 with 1 Axes>"
            ]
          },
          "metadata": {
            "needs_background": "light"
          }
        }
      ]
    },
    {
      "cell_type": "code",
      "metadata": {
        "id": "6bc3fb75"
      },
      "source": [
        "#creating list of layers \n",
        "l = [tf.keras.layers.Flatten(input_shape = [28,28], name =\"inputlayer\"),\n",
        "tf.keras.layers.Dense(300,activation = \"relu\", name = \"hiddenlayer1\"),\n",
        "tf.keras.layers.Dense(100,activation = \"relu\", name = \"hiddenlayer2\"),\n",
        "tf.keras.layers.Dense(10,activation = \"softmax\", name = \"hiddenlayer3\")]\n"
      ],
      "id": "6bc3fb75",
      "execution_count": 11,
      "outputs": []
    },
    {
      "cell_type": "code",
      "metadata": {
        "colab": {
          "base_uri": "https://localhost:8080/"
        },
        "id": "2888cf06",
        "outputId": "63218e15-0670-47bd-e2d8-5793c6f6d340"
      },
      "source": [
        "model_clf = tf.keras.models.Sequential(l)\n",
        "\n",
        "\n",
        "model_clf.layers\n",
        "\n",
        "\n",
        "model_clf.summary()\n"
      ],
      "id": "2888cf06",
      "execution_count": 12,
      "outputs": [
        {
          "output_type": "stream",
          "name": "stdout",
          "text": [
            "Model: \"sequential\"\n",
            "_________________________________________________________________\n",
            "Layer (type)                 Output Shape              Param #   \n",
            "=================================================================\n",
            "inputlayer (Flatten)         (None, 784)               0         \n",
            "_________________________________________________________________\n",
            "hiddenlayer1 (Dense)         (None, 300)               235500    \n",
            "_________________________________________________________________\n",
            "hiddenlayer2 (Dense)         (None, 100)               30100     \n",
            "_________________________________________________________________\n",
            "hiddenlayer3 (Dense)         (None, 10)                1010      \n",
            "=================================================================\n",
            "Total params: 266,610\n",
            "Trainable params: 266,610\n",
            "Non-trainable params: 0\n",
            "_________________________________________________________________\n"
          ]
        }
      ]
    },
    {
      "cell_type": "code",
      "metadata": {
        "colab": {
          "base_uri": "https://localhost:8080/"
        },
        "id": "b68fc0e4",
        "outputId": "58783234-6165-4500-d62b-0686efe64d28"
      },
      "source": [
        "hiddenlayer1 = model_clf.layers[1]\n",
        "print(hiddenlayer1.name)\n",
        "\n",
        "\n",
        "model_clf.get_layer(hiddenlayer1.name) is hiddenlayer1\n",
        "\n",
        "type(hiddenlayer1.get_weights())\n",
        "\n",
        "\n",
        "print(hiddenlayer1.get_weights())"
      ],
      "id": "b68fc0e4",
      "execution_count": 13,
      "outputs": [
        {
          "output_type": "stream",
          "name": "stdout",
          "text": [
            "hiddenlayer1\n",
            "[array([[-0.0630106 ,  0.03999849, -0.02709393, ...,  0.00676788,\n",
            "         0.04192998, -0.01668809],\n",
            "       [-0.00412957, -0.0418191 ,  0.01856385, ...,  0.05900136,\n",
            "        -0.04830823,  0.00251622],\n",
            "       [-0.01398417, -0.05813729,  0.06538497, ...,  0.04801791,\n",
            "         0.02162754, -0.04032048],\n",
            "       ...,\n",
            "       [-0.02619631, -0.01744651,  0.0277764 , ...,  0.06880848,\n",
            "         0.01170956,  0.00548376],\n",
            "       [-0.04276334, -0.01944996,  0.0381297 , ..., -0.01746858,\n",
            "        -0.07040541, -0.00237769],\n",
            "       [-0.05144059, -0.05746675,  0.05727385, ..., -0.02292011,\n",
            "        -0.02923817, -0.0373796 ]], dtype=float32), array([0., 0., 0., 0., 0., 0., 0., 0., 0., 0., 0., 0., 0., 0., 0., 0., 0.,\n",
            "       0., 0., 0., 0., 0., 0., 0., 0., 0., 0., 0., 0., 0., 0., 0., 0., 0.,\n",
            "       0., 0., 0., 0., 0., 0., 0., 0., 0., 0., 0., 0., 0., 0., 0., 0., 0.,\n",
            "       0., 0., 0., 0., 0., 0., 0., 0., 0., 0., 0., 0., 0., 0., 0., 0., 0.,\n",
            "       0., 0., 0., 0., 0., 0., 0., 0., 0., 0., 0., 0., 0., 0., 0., 0., 0.,\n",
            "       0., 0., 0., 0., 0., 0., 0., 0., 0., 0., 0., 0., 0., 0., 0., 0., 0.,\n",
            "       0., 0., 0., 0., 0., 0., 0., 0., 0., 0., 0., 0., 0., 0., 0., 0., 0.,\n",
            "       0., 0., 0., 0., 0., 0., 0., 0., 0., 0., 0., 0., 0., 0., 0., 0., 0.,\n",
            "       0., 0., 0., 0., 0., 0., 0., 0., 0., 0., 0., 0., 0., 0., 0., 0., 0.,\n",
            "       0., 0., 0., 0., 0., 0., 0., 0., 0., 0., 0., 0., 0., 0., 0., 0., 0.,\n",
            "       0., 0., 0., 0., 0., 0., 0., 0., 0., 0., 0., 0., 0., 0., 0., 0., 0.,\n",
            "       0., 0., 0., 0., 0., 0., 0., 0., 0., 0., 0., 0., 0., 0., 0., 0., 0.,\n",
            "       0., 0., 0., 0., 0., 0., 0., 0., 0., 0., 0., 0., 0., 0., 0., 0., 0.,\n",
            "       0., 0., 0., 0., 0., 0., 0., 0., 0., 0., 0., 0., 0., 0., 0., 0., 0.,\n",
            "       0., 0., 0., 0., 0., 0., 0., 0., 0., 0., 0., 0., 0., 0., 0., 0., 0.,\n",
            "       0., 0., 0., 0., 0., 0., 0., 0., 0., 0., 0., 0., 0., 0., 0., 0., 0.,\n",
            "       0., 0., 0., 0., 0., 0., 0., 0., 0., 0., 0., 0., 0., 0., 0., 0., 0.,\n",
            "       0., 0., 0., 0., 0., 0., 0., 0., 0., 0., 0.], dtype=float32)]\n"
          ]
        }
      ]
    },
    {
      "cell_type": "code",
      "metadata": {
        "colab": {
          "base_uri": "https://localhost:8080/"
        },
        "id": "afec8c84",
        "outputId": "af4ee0af-4481-4b31-edeb-520576e88d12"
      },
      "source": [
        "weight, biases = hiddenlayer1.get_weights()\n",
        "\n",
        "print(\"shape\\n\", weight.shape)\n",
        "print(weight)\n",
        "\n",
        "print(\"shape\\n\", biases.shape)\n",
        "print(biases)"
      ],
      "id": "afec8c84",
      "execution_count": 14,
      "outputs": [
        {
          "output_type": "stream",
          "name": "stdout",
          "text": [
            "shape\n",
            " (784, 300)\n",
            "[[-0.0630106   0.03999849 -0.02709393 ...  0.00676788  0.04192998\n",
            "  -0.01668809]\n",
            " [-0.00412957 -0.0418191   0.01856385 ...  0.05900136 -0.04830823\n",
            "   0.00251622]\n",
            " [-0.01398417 -0.05813729  0.06538497 ...  0.04801791  0.02162754\n",
            "  -0.04032048]\n",
            " ...\n",
            " [-0.02619631 -0.01744651  0.0277764  ...  0.06880848  0.01170956\n",
            "   0.00548376]\n",
            " [-0.04276334 -0.01944996  0.0381297  ... -0.01746858 -0.07040541\n",
            "  -0.00237769]\n",
            " [-0.05144059 -0.05746675  0.05727385 ... -0.02292011 -0.02923817\n",
            "  -0.0373796 ]]\n",
            "shape\n",
            " (300,)\n",
            "[0. 0. 0. 0. 0. 0. 0. 0. 0. 0. 0. 0. 0. 0. 0. 0. 0. 0. 0. 0. 0. 0. 0. 0.\n",
            " 0. 0. 0. 0. 0. 0. 0. 0. 0. 0. 0. 0. 0. 0. 0. 0. 0. 0. 0. 0. 0. 0. 0. 0.\n",
            " 0. 0. 0. 0. 0. 0. 0. 0. 0. 0. 0. 0. 0. 0. 0. 0. 0. 0. 0. 0. 0. 0. 0. 0.\n",
            " 0. 0. 0. 0. 0. 0. 0. 0. 0. 0. 0. 0. 0. 0. 0. 0. 0. 0. 0. 0. 0. 0. 0. 0.\n",
            " 0. 0. 0. 0. 0. 0. 0. 0. 0. 0. 0. 0. 0. 0. 0. 0. 0. 0. 0. 0. 0. 0. 0. 0.\n",
            " 0. 0. 0. 0. 0. 0. 0. 0. 0. 0. 0. 0. 0. 0. 0. 0. 0. 0. 0. 0. 0. 0. 0. 0.\n",
            " 0. 0. 0. 0. 0. 0. 0. 0. 0. 0. 0. 0. 0. 0. 0. 0. 0. 0. 0. 0. 0. 0. 0. 0.\n",
            " 0. 0. 0. 0. 0. 0. 0. 0. 0. 0. 0. 0. 0. 0. 0. 0. 0. 0. 0. 0. 0. 0. 0. 0.\n",
            " 0. 0. 0. 0. 0. 0. 0. 0. 0. 0. 0. 0. 0. 0. 0. 0. 0. 0. 0. 0. 0. 0. 0. 0.\n",
            " 0. 0. 0. 0. 0. 0. 0. 0. 0. 0. 0. 0. 0. 0. 0. 0. 0. 0. 0. 0. 0. 0. 0. 0.\n",
            " 0. 0. 0. 0. 0. 0. 0. 0. 0. 0. 0. 0. 0. 0. 0. 0. 0. 0. 0. 0. 0. 0. 0. 0.\n",
            " 0. 0. 0. 0. 0. 0. 0. 0. 0. 0. 0. 0. 0. 0. 0. 0. 0. 0. 0. 0. 0. 0. 0. 0.\n",
            " 0. 0. 0. 0. 0. 0. 0. 0. 0. 0. 0. 0.]\n"
          ]
        }
      ]
    },
    {
      "cell_type": "code",
      "metadata": {
        "id": "844f86f0"
      },
      "source": [
        "loss_function = \"sparse_categorical_crossentropy\" #use => tf.losses.sparse_categorical_crossentropy \n",
        "\n",
        "\n",
        "optimize = \"SGD\" # we can use custom learing rate => tf.keras.optimizer.SGD(0.02)\n",
        "\n",
        "metrics = [\"accuracy\"]\n",
        "\n",
        "\n",
        "model_clf.compile(loss= loss_function, optimizer = optimize, metrics = metrics)"
      ],
      "id": "844f86f0",
      "execution_count": null,
      "outputs": []
    },
    {
      "cell_type": "code",
      "metadata": {
        "id": "2c8b61dc",
        "outputId": "eee82ecc-d2b9-4359-c953-30dc2ce9866c"
      },
      "source": [
        "\n",
        "Epochs = 30\n",
        "\n",
        "validation_set = (x_valid, y_valid)\n",
        "\n",
        "history = model_clf.fit(x_train, y_train, epochs= Epochs, validation_data = validation_set)"
      ],
      "id": "2c8b61dc",
      "execution_count": null,
      "outputs": [
        {
          "name": "stdout",
          "output_type": "stream",
          "text": [
            "Epoch 1/30\n",
            "1719/1719 [==============================] - 8s 3ms/step - loss: 1.0132 - accuracy: 0.7258 - val_loss: 0.3054 - val_accuracy: 0.9156\n",
            "Epoch 2/30\n",
            "1719/1719 [==============================] - 4s 2ms/step - loss: 0.3035 - accuracy: 0.9143 - val_loss: 0.2360 - val_accuracy: 0.9348\n",
            "Epoch 3/30\n",
            "1719/1719 [==============================] - 4s 2ms/step - loss: 0.2381 - accuracy: 0.9314 - val_loss: 0.1993 - val_accuracy: 0.9442\n",
            "Epoch 4/30\n",
            "1719/1719 [==============================] - 4s 2ms/step - loss: 0.2054 - accuracy: 0.9419 - val_loss: 0.1722 - val_accuracy: 0.9512\n",
            "Epoch 5/30\n",
            "1719/1719 [==============================] - 4s 2ms/step - loss: 0.1769 - accuracy: 0.9493 - val_loss: 0.1536 - val_accuracy: 0.9568\n",
            "Epoch 6/30\n",
            "1719/1719 [==============================] - 4s 2ms/step - loss: 0.1603 - accuracy: 0.9543 - val_loss: 0.1380 - val_accuracy: 0.9614\n",
            "Epoch 7/30\n",
            "1719/1719 [==============================] - 4s 2ms/step - loss: 0.1391 - accuracy: 0.9607 - val_loss: 0.1299 - val_accuracy: 0.9652\n",
            "Epoch 8/30\n",
            "1719/1719 [==============================] - 4s 3ms/step - loss: 0.1232 - accuracy: 0.9654 - val_loss: 0.1220 - val_accuracy: 0.9662\n",
            "Epoch 9/30\n",
            "1719/1719 [==============================] - 5s 3ms/step - loss: 0.1147 - accuracy: 0.9686 - val_loss: 0.1149 - val_accuracy: 0.9688\n",
            "Epoch 10/30\n",
            "1719/1719 [==============================] - 4s 2ms/step - loss: 0.1025 - accuracy: 0.9707 - val_loss: 0.1076 - val_accuracy: 0.9696\n",
            "Epoch 11/30\n",
            "1719/1719 [==============================] - 4s 2ms/step - loss: 0.0952 - accuracy: 0.9740 - val_loss: 0.1023 - val_accuracy: 0.9726\n",
            "Epoch 12/30\n",
            "1719/1719 [==============================] - 4s 2ms/step - loss: 0.0886 - accuracy: 0.9752 - val_loss: 0.0964 - val_accuracy: 0.9746\n",
            "Epoch 13/30\n",
            "1719/1719 [==============================] - 4s 2ms/step - loss: 0.0838 - accuracy: 0.9780 - val_loss: 0.0941 - val_accuracy: 0.9754\n",
            "Epoch 14/30\n",
            "1719/1719 [==============================] - 3s 2ms/step - loss: 0.0739 - accuracy: 0.9798 - val_loss: 0.0912 - val_accuracy: 0.9758\n",
            "Epoch 15/30\n",
            "1719/1719 [==============================] - 3s 2ms/step - loss: 0.0710 - accuracy: 0.9806 - val_loss: 0.0877 - val_accuracy: 0.9758\n",
            "Epoch 16/30\n",
            "1719/1719 [==============================] - 4s 2ms/step - loss: 0.0654 - accuracy: 0.9822 - val_loss: 0.0854 - val_accuracy: 0.9764\n",
            "Epoch 17/30\n",
            "1719/1719 [==============================] - 4s 2ms/step - loss: 0.0586 - accuracy: 0.9841 - val_loss: 0.0845 - val_accuracy: 0.9764\n",
            "Epoch 18/30\n",
            "1719/1719 [==============================] - 3s 2ms/step - loss: 0.0576 - accuracy: 0.9845 - val_loss: 0.0807 - val_accuracy: 0.9772\n",
            "Epoch 19/30\n",
            "1719/1719 [==============================] - 5s 3ms/step - loss: 0.0531 - accuracy: 0.9859 - val_loss: 0.0807 - val_accuracy: 0.9776\n",
            "Epoch 20/30\n",
            "1719/1719 [==============================] - 3s 2ms/step - loss: 0.0515 - accuracy: 0.9863 - val_loss: 0.0788 - val_accuracy: 0.9776\n",
            "Epoch 21/30\n",
            "1719/1719 [==============================] - 4s 2ms/step - loss: 0.0464 - accuracy: 0.9877 - val_loss: 0.0764 - val_accuracy: 0.9788\n",
            "Epoch 22/30\n",
            "1719/1719 [==============================] - 4s 2ms/step - loss: 0.0438 - accuracy: 0.9888 - val_loss: 0.0737 - val_accuracy: 0.9790\n",
            "Epoch 23/30\n",
            "1719/1719 [==============================] - 4s 2ms/step - loss: 0.0433 - accuracy: 0.9883 - val_loss: 0.0766 - val_accuracy: 0.9766\n",
            "Epoch 24/30\n",
            "1719/1719 [==============================] - 4s 2ms/step - loss: 0.0391 - accuracy: 0.9901 - val_loss: 0.0759 - val_accuracy: 0.9770\n",
            "Epoch 25/30\n",
            "1719/1719 [==============================] - 4s 2ms/step - loss: 0.0366 - accuracy: 0.9910 - val_loss: 0.0728 - val_accuracy: 0.9780\n",
            "Epoch 26/30\n",
            "1719/1719 [==============================] - 4s 2ms/step - loss: 0.0339 - accuracy: 0.9919 - val_loss: 0.0711 - val_accuracy: 0.9794\n",
            "Epoch 27/30\n",
            "1719/1719 [==============================] - 4s 2ms/step - loss: 0.0314 - accuracy: 0.9932 - val_loss: 0.0717 - val_accuracy: 0.9796\n",
            "Epoch 28/30\n",
            "1719/1719 [==============================] - 4s 2ms/step - loss: 0.0305 - accuracy: 0.9933 - val_loss: 0.0711 - val_accuracy: 0.9790\n",
            "Epoch 29/30\n",
            "1719/1719 [==============================] - 4s 2ms/step - loss: 0.0293 - accuracy: 0.9932 - val_loss: 0.0705 - val_accuracy: 0.9794\n",
            "Epoch 30/30\n",
            "1719/1719 [==============================] - 3s 2ms/step - loss: 0.0279 - accuracy: 0.9941 - val_loss: 0.0736 - val_accuracy: 0.9776\n"
          ]
        }
      ]
    },
    {
      "cell_type": "code",
      "metadata": {
        "id": "b087a63d"
      },
      "source": [
        "#creating model \n",
        "import time \n",
        "import os \n",
        "\n",
        "\n",
        "def saveModel_path(model_dir = \"_saved_models\"):\n",
        "\tos.makedirs(model_dir, exist_ok = True)\n",
        "\tfilename = time.strftime(\"Model_%Y_%m_%d_%H_%M_%S_.h5\")\n",
        "\tmodel_path = os.path.join(model_dir, filename)\n",
        "\tprint(f\"your model will be saved at the followin location\\n{model_path}\")\n",
        "\treturn(model_path)\n",
        "\n",
        "\n"
      ],
      "id": "b087a63d",
      "execution_count": null,
      "outputs": []
    },
    {
      "cell_type": "code",
      "metadata": {
        "id": "9d3887a1",
        "outputId": "4e693e46-ddad-4446-fa0a-8fd00d3a6fab"
      },
      "source": [
        "unique_path = model_clf.save(saveModel_path())"
      ],
      "id": "9d3887a1",
      "execution_count": null,
      "outputs": [
        {
          "name": "stdout",
          "output_type": "stream",
          "text": [
            "your model will be saved at the followin location\n",
            "_saved_models/Model_2021_06_14_12_00_48_.h5\n"
          ]
        }
      ]
    },
    {
      "cell_type": "code",
      "metadata": {
        "id": "980f268f"
      },
      "source": [
        ""
      ],
      "id": "980f268f",
      "execution_count": null,
      "outputs": []
    }
  ]
}